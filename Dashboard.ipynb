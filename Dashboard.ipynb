{
 "cells": [
  {
   "cell_type": "code",
   "execution_count": 403,
   "id": "3244d66b",
   "metadata": {},
   "outputs": [],
   "source": [
    "import dash\n",
    "from dash import dcc\n",
    "from dash import dcc\n",
    "from dash import html\n",
    "import pandas as pd\n",
    "import plotly.express as px\n",
    "import plotly.graph_objects as go\n",
    "import folium"
   ]
  },
  {
   "cell_type": "markdown",
   "id": "5230ebc9",
   "metadata": {},
   "source": [
    "# Motum"
   ]
  },
  {
   "cell_type": "code",
   "execution_count": 404,
   "id": "9354117c",
   "metadata": {},
   "outputs": [],
   "source": [
    "from dash import Dash, dash_table\n",
    "import dash_bootstrap_components as dbc\n",
    "from dash import Dash, Input, Output, callback, dash_table\n",
    "import numpy as np"
   ]
  },
  {
   "cell_type": "code",
   "execution_count": 405,
   "id": "b6d20a7f",
   "metadata": {},
   "outputs": [],
   "source": [
    "css = 'https://codepen.io/chriddyp/pen/bWLwgP.css'\n",
    "app = Dash(__name__, external_stylesheets=[css])\n",
    "server = app.server"
   ]
  },
  {
   "cell_type": "code",
   "execution_count": 406,
   "id": "01548c28",
   "metadata": {},
   "outputs": [],
   "source": [
    "#data=pd.read_excel(\"Dashboard.xlsx\")\n",
    "#data=data.drop(\"Unnamed: 0\",axis=1)"
   ]
  },
  {
   "cell_type": "code",
   "execution_count": 407,
   "id": "28e3841a",
   "metadata": {},
   "outputs": [],
   "source": [
    "#data"
   ]
  },
  {
   "cell_type": "code",
   "execution_count": 408,
   "id": "2c2cad4c",
   "metadata": {},
   "outputs": [],
   "source": [
    "#fig = px.pie(data,names='Estatus Prisma', title='Viajes activos por estatus prisma',hole=.3,color='Estatus Prisma',color_discrete_map={'Rojo':'red',\n",
    " #                                'Verde':'green',\n",
    "  #                               'Amarillo':'yellow',})"
   ]
  },
  {
   "cell_type": "code",
   "execution_count": 409,
   "id": "03145703",
   "metadata": {},
   "outputs": [],
   "source": [
    "#app.layout = html.Div(\n",
    " #   children=[\n",
    "  #      html.H1(children=\"KLS LOGISTICS\",className=\"hello\",\n",
    "   # style={'color':'#FF0000','text-align':'center'\n",
    "    #      }),\n",
    "     #   html.P(\n",
    "      #      children=\"Monitoreo Viajes Motum\",style={'color':'#FF0000','text-align':'center'\n",
    "       #   }\n",
    "        #),\n",
    "        #dcc.Graph(\n",
    "         #   figure=fig),\n",
    "        #dash_table.DataTable(data.to_dict('records'), [{\"name\": i, \"id\": \"table\"} for i in data.columns])\n",
    "        \n",
    "        \n",
    "   # ],\n",
    "#)\n"
   ]
  },
  {
   "cell_type": "code",
   "execution_count": 410,
   "id": "7780e5a5",
   "metadata": {},
   "outputs": [
    {
     "data": {
      "text/plain": [
       "<folium.map.Marker at 0x1fd5cb19dc0>"
      ]
     },
     "execution_count": 410,
     "metadata": {},
     "output_type": "execute_result"
    }
   ],
   "source": [
    "m = folium.Map(location=[20.983338442303125,-89.83167836801354], zoom_start=12, tiles='Stamen Terrain') \n",
    "tooltip = 'HUNUCMA'\n",
    "folium.Marker([20.983338442303125,-89.83167836801354], popup='HUNUCMA', tooltip=tooltip).add_to(m) "
   ]
  },
  {
   "cell_type": "code",
   "execution_count": 411,
   "id": "ae4273d4",
   "metadata": {},
   "outputs": [],
   "source": [
    "m.save('mapita.html')"
   ]
  },
  {
   "cell_type": "code",
   "execution_count": 415,
   "id": "66f11a2d",
   "metadata": {},
   "outputs": [],
   "source": [
    "def serve_layout():\n",
    "    data=pd.read_excel(\"Dashboard2.xlsx\")\n",
    "    data=data.drop(\"Unnamed: 0\",axis=1)\n",
    "    fig = px.pie(data,names='Estatus_Prisma_Carga', title='Viajes activos - Estatus Carga',hole=.3,color='Estatus_Prisma_Carga',color_discrete_map={'Rojo':'red',\n",
    "                                 'Verde':'green',\n",
    "                                 'Amarillo':'yellow'})\n",
    "    fig2 = px.pie(data,names='Estatus_Prisma_Descarga', title='Viajes activos - Estatus Descarga',hole=.3,color='Estatus_Prisma_Descarga',color_discrete_map={'Rojo':'red',\n",
    "                                 'Verde':'green',\n",
    "                                 'Amarillo':'yellow'})\n",
    "    m = folium.Map(location=[20.983338442303125,-89.83167836801354], zoom_start=12, tiles='Stamen Terrain') \n",
    "    tooltip = 'HUNUCMA'\n",
    "    folium.Marker([20.983338442303125,-89.83167836801354], popup='HUNUCMA', tooltip=tooltip).add_to(m) \n",
    "    m.save('mapita.html')\n",
    "    \n",
    "    \n",
    "    fig.update_layout({\n",
    "    'plot_bgcolor': 'rgba(0, 0, 0, 0)',\n",
    "    'paper_bgcolor': 'rgba(0, 0, 0, 0)',\n",
    "    },font=dict(\n",
    "        family=\"Verdana, Sans-serif\",\n",
    "        size=13,\n",
    "        color=\"white\"\n",
    "    ),title={\n",
    "        'yanchor': 'auto'})\n",
    "    \n",
    "    \n",
    "    \n",
    "    fig2.update_layout({\n",
    "    'plot_bgcolor': 'rgba(0, 0, 0, 0)',\n",
    "    'paper_bgcolor': 'rgba(0, 0, 0, 0)',\n",
    "    },font=dict(\n",
    "        family=\"Verdana, Sans-serif\",\n",
    "        size=13,\n",
    "        color=\"white\"\n",
    "    ))\n",
    "    \n",
    "    return html.Div(style={'backgroundColor': '#111111'},\n",
    "    children=[\n",
    "        html.H1(children=\"KLS LOGISTICS\",className=\"hello\",\n",
    "    style={\"fontSize\": \"48px\",'color':'#dd191b','text-align':'center','fontWeight': 'bold'\n",
    "          }),\n",
    "        html.P(\n",
    "            children=\"Monitoreo Viajes Motum\",style={'color':'#ec8c88','text-align':'center'\n",
    "          }\n",
    "        ),\n",
    "        dcc.Graph(\n",
    "            figure=fig,\n",
    "            style={'width': '100vh', 'height': '90vh','display': 'inline-block'},\n",
    "            \n",
    "        ),\n",
    "        dcc.Graph(\n",
    "            figure=fig2,\n",
    "            style={'width': '100vh', 'height': '90vh','display': 'inline-block'},\n",
    "        ),\n",
    "        dash_table.DataTable(data.to_dict('records'), [{\"name\": i, \"id\": i} for i in data.columns],style_as_list_view=False,\n",
    "            style_cell={'padding': '2px','textAlign': 'center'},\n",
    "                                 style_data={'color': 'black',\n",
    "            'backgroundColor': '#adadad','whiteSpace': 'normal',\n",
    "            'height': 'auto'},\n",
    "            style_header={\n",
    "                'backgroundColor': '#721717',\n",
    "                'color':'white',\n",
    "            },style_data_conditional=[\n",
    "               {\n",
    "            \"if\": {\n",
    "                'column_id': 'Estatus_Prisma_Descarga',\n",
    "                'filter_query': '{Estatus_Prisma_Descarga} eq \"Rojo\"'\n",
    "            },\n",
    "            \"backgroundColor\": \"#FF0000\",\n",
    "            \"color\": \"white\"\n",
    "            },{\n",
    "            \"if\": {\n",
    "                'column_id': 'Estatus_Prisma_Descarga',\n",
    "                'filter_query': '{Estatus_Prisma_Descarga} eq \"Verde\"'\n",
    "            },\n",
    "            \"backgroundColor\": \"#00E572\",\n",
    "            \"color\": \"black\"\n",
    "            },\n",
    "            {\n",
    "            \"if\": {\n",
    "                'column_id': 'Estatus_Prisma_Descarga',\n",
    "                'filter_query': '{Estatus_Prisma_Descarga} eq \"Amarillo\"'\n",
    "            },\n",
    "            \"backgroundColor\": \"#FFFB00\",\n",
    "            \"color\": \"black\"\n",
    "            },\n",
    "            {\n",
    "            \"if\": {\n",
    "                'column_id': 'Estatus_Prisma_Carga',\n",
    "                'filter_query': '{Estatus_Prisma_Carga} eq \"Rojo\"'\n",
    "            },\n",
    "            \"backgroundColor\": \"#FF0000\",\n",
    "            \"color\": \"white\"\n",
    "            },{\n",
    "            \"if\": {\n",
    "                'column_id': 'Estatus_Prisma_Carga',\n",
    "                'filter_query': '{Estatus_Prisma_Carga} eq \"Verde\"'\n",
    "            },\n",
    "            \"backgroundColor\": \"#00E572\",\n",
    "            \"color\": \"black\"\n",
    "            },\n",
    "            {\n",
    "            \"if\": {\n",
    "                'column_id': 'Estatus_Prisma_Carga',\n",
    "                'filter_query': '{Estatus_Prisma_Carga} eq \"Amarillo\"'\n",
    "            },\n",
    "            \"backgroundColor\": \"#FFFB00\",\n",
    "            \"color\": \"black\"\n",
    "            },\n",
    "            {\n",
    "            \"if\": {\n",
    "                'column_id': 'Estatus_Prisma_Carga',\n",
    "                'filter_query': '{Estatus_Prisma_Carga} eq \"Carga finalizada\"'\n",
    "            },\n",
    "            \"backgroundColor\": \"#E6C7EC\",\n",
    "            \"color\": \"black\"\n",
    "            }\n",
    "\n",
    "\n",
    "            ],),\n",
    "        html.Iframe(srcDoc=open('mapita.html','r').read(),width='100%',height='600')\n",
    "\n",
    "        \n",
    "    ],\n",
    ")"
   ]
  },
  {
   "cell_type": "code",
   "execution_count": 416,
   "id": "7d81757d",
   "metadata": {},
   "outputs": [],
   "source": [
    "app.layout=serve_layout"
   ]
  },
  {
   "cell_type": "code",
   "execution_count": 417,
   "id": "31efdf3d",
   "metadata": {},
   "outputs": [
    {
     "name": "stdout",
     "output_type": "stream",
     "text": [
      "Dash is running on http://127.0.0.1:8050/\n",
      "\n",
      "Dash is running on http://127.0.0.1:8050/\n",
      "\n",
      "Dash is running on http://127.0.0.1:8050/\n",
      "\n",
      "Dash is running on http://127.0.0.1:8050/\n",
      "\n",
      "Dash is running on http://127.0.0.1:8050/\n",
      "\n",
      "Dash is running on http://127.0.0.1:8050/\n",
      "\n"
     ]
    },
    {
     "name": "stderr",
     "output_type": "stream",
     "text": [
      "INFO:__main__:Dash is running on http://127.0.0.1:8050/\n",
      "\n"
     ]
    },
    {
     "name": "stdout",
     "output_type": "stream",
     "text": [
      " * Serving Flask app \"__main__\" (lazy loading)\n",
      " * Environment: production\n",
      "\u001b[31m   WARNING: This is a development server. Do not use it in a production deployment.\u001b[0m\n",
      "\u001b[2m   Use a production WSGI server instead.\u001b[0m\n",
      " * Debug mode: on\n"
     ]
    }
   ],
   "source": [
    "if __name__ == '__main__':\n",
    "    app.run_server(debug=True,use_reloader=False)"
   ]
  },
  {
   "cell_type": "code",
   "execution_count": null,
   "id": "b269385c",
   "metadata": {},
   "outputs": [],
   "source": []
  }
 ],
 "metadata": {
  "kernelspec": {
   "display_name": "Python 3 (ipykernel)",
   "language": "python",
   "name": "python3"
  },
  "language_info": {
   "codemirror_mode": {
    "name": "ipython",
    "version": 3
   },
   "file_extension": ".py",
   "mimetype": "text/x-python",
   "name": "python",
   "nbconvert_exporter": "python",
   "pygments_lexer": "ipython3",
   "version": "3.9.13"
  }
 },
 "nbformat": 4,
 "nbformat_minor": 5
}
